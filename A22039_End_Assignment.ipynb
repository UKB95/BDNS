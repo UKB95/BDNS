{
  "cells": [
    {
      "cell_type": "markdown",
      "metadata": {
        "id": "oKYqP2LIcUTY"
      },
      "source": [
        "# Install MongoDB & Load Data"
      ]
    },
    {
      "cell_type": "code",
      "execution_count": 1,
      "metadata": {
        "colab": {
          "base_uri": "https://localhost:8080/"
        },
        "id": "nX2ql2KPOfxf",
        "outputId": "af4a8707-a7d8-4d24-bb54-b976039a8ef8"
      },
      "outputs": [
        {
          "output_type": "stream",
          "name": "stdout",
          "text": [
            "\n",
            "WARNING: apt does not have a stable CLI interface. Use with caution in scripts.\n",
            "\n"
          ]
        }
      ],
      "source": [
        "!apt install mongodb > /dev/null\n",
        "from pymongo import MongoClient\n",
        "import pandas as pd"
      ]
    },
    {
      "cell_type": "code",
      "execution_count": 2,
      "metadata": {
        "colab": {
          "base_uri": "https://localhost:8080/"
        },
        "id": "L9QFyn0iaL4k",
        "outputId": "f15bc4f9-a434-4b79-ce73-7c14e51c67cd"
      },
      "outputs": [
        {
          "output_type": "stream",
          "name": "stdout",
          "text": [
            " * Starting database mongodb\n",
            "   ...done.\n"
          ]
        }
      ],
      "source": [
        "!service mongodb start"
      ]
    },
    {
      "cell_type": "code",
      "execution_count": 3,
      "metadata": {
        "id": "uB20OJ9jaeor"
      },
      "outputs": [],
      "source": [
        "!wget -q https://raw.githubusercontent.com/UKB95/BDNS/main/PX03_Churn.json"
      ]
    },
    {
      "cell_type": "code",
      "execution_count": 4,
      "metadata": {
        "colab": {
          "base_uri": "https://localhost:8080/"
        },
        "id": "Gbfrcbg9aeuv",
        "outputId": "7a9a3905-4957-410b-eab5-c7452da99522"
      },
      "outputs": [
        {
          "output_type": "stream",
          "name": "stdout",
          "text": [
            "2023-02-01T06:01:38.198+0000\tconnected to: localhost\n",
            "2023-02-01T06:01:38.199+0000\tdropping: PraxisDB.PX03_Churn\n",
            "2023-02-01T06:01:38.331+0000\timported 5000 documents\n"
          ]
        }
      ],
      "source": [
        "!mongoimport --jsonArray --db PraxisDB --collection PX03_Churn --drop --file PX03_Churn.json"
      ]
    },
    {
      "cell_type": "code",
      "execution_count": 5,
      "metadata": {
        "colab": {
          "base_uri": "https://localhost:8080/"
        },
        "id": "iSY8LV26-clp",
        "outputId": "906d5b7b-4554-4929-b3f8-2963d3030d59"
      },
      "outputs": [
        {
          "output_type": "execute_result",
          "data": {
            "text/plain": [
              "['PraxisDB', 'admin', 'config', 'local']"
            ]
          },
          "metadata": {},
          "execution_count": 5
        }
      ],
      "source": [
        "mongoURI = \"mongodb://localhost:27017/\"    # local\n",
        "client = MongoClient(mongoURI)\n",
        "client.list_database_names() "
      ]
    },
    {
      "cell_type": "code",
      "execution_count": 6,
      "metadata": {
        "colab": {
          "base_uri": "https://localhost:8080/"
        },
        "id": "mFQvTd-C-crq",
        "outputId": "b642dbf8-9c7a-4339-de72-dd6eb300bac1"
      },
      "outputs": [
        {
          "output_type": "execute_result",
          "data": {
            "text/plain": [
              "['PX03_Churn']"
            ]
          },
          "metadata": {},
          "execution_count": 6
        }
      ],
      "source": [
        "db = client.PraxisDB\n",
        "db.list_collection_names()"
      ]
    },
    {
      "cell_type": "code",
      "execution_count": 8,
      "metadata": {
        "colab": {
          "base_uri": "https://localhost:8080/"
        },
        "id": "0v7YRkx3-dUv",
        "outputId": "4fe0e74d-0882-4988-933c-a7061aa77337"
      },
      "outputs": [
        {
          "output_type": "execute_result",
          "data": {
            "text/plain": [
              "5000"
            ]
          },
          "metadata": {},
          "execution_count": 8
        }
      ],
      "source": [
        "table = db.PX03_Churn\n",
        "table.count_documents({})"
      ]
    },
    {
      "cell_type": "markdown",
      "metadata": {
        "id": "kgyT3hSBi7ND"
      },
      "source": [
        "# EDA"
      ]
    },
    {
      "cell_type": "code",
      "execution_count": 9,
      "metadata": {
        "id": "awEKEQEY2iic"
      },
      "outputs": [],
      "source": [
        "import numpy as np\n",
        "import matplotlib.pyplot as plt\n",
        "import seaborn as sns"
      ]
    },
    {
      "cell_type": "code",
      "execution_count": 10,
      "metadata": {
        "colab": {
          "base_uri": "https://localhost:8080/",
          "height": 423
        },
        "id": "NyWCPVs93Y0o",
        "outputId": "30e98a56-ebb9-4e6c-dd81-7cd842f6a051"
      },
      "outputs": [
        {
          "output_type": "execute_result",
          "data": {
            "text/plain": [
              "                           _id  phoneno  age  gender  zipcode  calls  sms  \\\n",
              "0     63da0042333ca48a71064b61     4535  1.0    Male    90089  150.0   45   \n",
              "1     63da0042333ca48a71064b62     5974  1.0    Male    91107  160.0   25   \n",
              "2     63da0042333ca48a71064b63     4016  1.0    Male    94720  100.0   39   \n",
              "3     63da0042333ca48a71064b64     8523  2.0    Male    94112  270.0   35   \n",
              "4     63da0042333ca48a71064b65     5052  2.0  Female    91330  100.0   35   \n",
              "...                        ...      ...  ...     ...      ...    ...  ...   \n",
              "4995  63da0042333ca48a71065ee8     4704  3.0    Male    92697  190.0   29   \n",
              "4996  63da0042333ca48a71065ee9     7402  3.0    Male    93023   30.0   63   \n",
              "4997  63da0042333ca48a71065eea     3149  1.0    Male    92037   40.0   30   \n",
              "4998  63da0042333ca48a71065eeb     5742  2.0    Male    90034   50.0   65   \n",
              "4999  63da0042333ca48a71065eec     3689  1.0  Female    92612   80.0   28   \n",
              "\n",
              "      mms  charges  coverage  complaint         sim   phone   prepost  churn  \n",
              "0      19      340         0          3    Dual Sim  Andoid   Prepaid      0  \n",
              "1       1      490         0          4    Dual Sim  Andoid   Prepaid      0  \n",
              "2      15      110         0          1  Single Sim  Andoid   Prepaid      0  \n",
              "3       9     1000         0          1  Single Sim  Andoid   Prepaid      0  \n",
              "4       8      450         0          4  Single Sim  Andoid   Prepaid      0  \n",
              "...   ...      ...       ...        ...         ...     ...       ...    ...  \n",
              "4995    3      400         0          1  Single Sim  Andoid  Postpaid      0  \n",
              "4996   39      240         0          2  Single Sim  Andoid   Prepaid      0  \n",
              "4997    4      150         1          4  Single Sim  Andoid  Postpaid      0  \n",
              "4998   40      490         0          3  Single Sim  Andoid  Postpaid      0  \n",
              "4999    4      830         0          3  Single Sim  Andoid  Postpaid      0  \n",
              "\n",
              "[5000 rows x 15 columns]"
            ],
            "text/html": [
              "\n",
              "  <div id=\"df-0d3f5c41-1472-43c3-a3b7-f9fcd549e37c\">\n",
              "    <div class=\"colab-df-container\">\n",
              "      <div>\n",
              "<style scoped>\n",
              "    .dataframe tbody tr th:only-of-type {\n",
              "        vertical-align: middle;\n",
              "    }\n",
              "\n",
              "    .dataframe tbody tr th {\n",
              "        vertical-align: top;\n",
              "    }\n",
              "\n",
              "    .dataframe thead th {\n",
              "        text-align: right;\n",
              "    }\n",
              "</style>\n",
              "<table border=\"1\" class=\"dataframe\">\n",
              "  <thead>\n",
              "    <tr style=\"text-align: right;\">\n",
              "      <th></th>\n",
              "      <th>_id</th>\n",
              "      <th>phoneno</th>\n",
              "      <th>age</th>\n",
              "      <th>gender</th>\n",
              "      <th>zipcode</th>\n",
              "      <th>calls</th>\n",
              "      <th>sms</th>\n",
              "      <th>mms</th>\n",
              "      <th>charges</th>\n",
              "      <th>coverage</th>\n",
              "      <th>complaint</th>\n",
              "      <th>sim</th>\n",
              "      <th>phone</th>\n",
              "      <th>prepost</th>\n",
              "      <th>churn</th>\n",
              "    </tr>\n",
              "  </thead>\n",
              "  <tbody>\n",
              "    <tr>\n",
              "      <th>0</th>\n",
              "      <td>63da0042333ca48a71064b61</td>\n",
              "      <td>4535</td>\n",
              "      <td>1.0</td>\n",
              "      <td>Male</td>\n",
              "      <td>90089</td>\n",
              "      <td>150.0</td>\n",
              "      <td>45</td>\n",
              "      <td>19</td>\n",
              "      <td>340</td>\n",
              "      <td>0</td>\n",
              "      <td>3</td>\n",
              "      <td>Dual Sim</td>\n",
              "      <td>Andoid</td>\n",
              "      <td>Prepaid</td>\n",
              "      <td>0</td>\n",
              "    </tr>\n",
              "    <tr>\n",
              "      <th>1</th>\n",
              "      <td>63da0042333ca48a71064b62</td>\n",
              "      <td>5974</td>\n",
              "      <td>1.0</td>\n",
              "      <td>Male</td>\n",
              "      <td>91107</td>\n",
              "      <td>160.0</td>\n",
              "      <td>25</td>\n",
              "      <td>1</td>\n",
              "      <td>490</td>\n",
              "      <td>0</td>\n",
              "      <td>4</td>\n",
              "      <td>Dual Sim</td>\n",
              "      <td>Andoid</td>\n",
              "      <td>Prepaid</td>\n",
              "      <td>0</td>\n",
              "    </tr>\n",
              "    <tr>\n",
              "      <th>2</th>\n",
              "      <td>63da0042333ca48a71064b63</td>\n",
              "      <td>4016</td>\n",
              "      <td>1.0</td>\n",
              "      <td>Male</td>\n",
              "      <td>94720</td>\n",
              "      <td>100.0</td>\n",
              "      <td>39</td>\n",
              "      <td>15</td>\n",
              "      <td>110</td>\n",
              "      <td>0</td>\n",
              "      <td>1</td>\n",
              "      <td>Single Sim</td>\n",
              "      <td>Andoid</td>\n",
              "      <td>Prepaid</td>\n",
              "      <td>0</td>\n",
              "    </tr>\n",
              "    <tr>\n",
              "      <th>3</th>\n",
              "      <td>63da0042333ca48a71064b64</td>\n",
              "      <td>8523</td>\n",
              "      <td>2.0</td>\n",
              "      <td>Male</td>\n",
              "      <td>94112</td>\n",
              "      <td>270.0</td>\n",
              "      <td>35</td>\n",
              "      <td>9</td>\n",
              "      <td>1000</td>\n",
              "      <td>0</td>\n",
              "      <td>1</td>\n",
              "      <td>Single Sim</td>\n",
              "      <td>Andoid</td>\n",
              "      <td>Prepaid</td>\n",
              "      <td>0</td>\n",
              "    </tr>\n",
              "    <tr>\n",
              "      <th>4</th>\n",
              "      <td>63da0042333ca48a71064b65</td>\n",
              "      <td>5052</td>\n",
              "      <td>2.0</td>\n",
              "      <td>Female</td>\n",
              "      <td>91330</td>\n",
              "      <td>100.0</td>\n",
              "      <td>35</td>\n",
              "      <td>8</td>\n",
              "      <td>450</td>\n",
              "      <td>0</td>\n",
              "      <td>4</td>\n",
              "      <td>Single Sim</td>\n",
              "      <td>Andoid</td>\n",
              "      <td>Prepaid</td>\n",
              "      <td>0</td>\n",
              "    </tr>\n",
              "    <tr>\n",
              "      <th>...</th>\n",
              "      <td>...</td>\n",
              "      <td>...</td>\n",
              "      <td>...</td>\n",
              "      <td>...</td>\n",
              "      <td>...</td>\n",
              "      <td>...</td>\n",
              "      <td>...</td>\n",
              "      <td>...</td>\n",
              "      <td>...</td>\n",
              "      <td>...</td>\n",
              "      <td>...</td>\n",
              "      <td>...</td>\n",
              "      <td>...</td>\n",
              "      <td>...</td>\n",
              "      <td>...</td>\n",
              "    </tr>\n",
              "    <tr>\n",
              "      <th>4995</th>\n",
              "      <td>63da0042333ca48a71065ee8</td>\n",
              "      <td>4704</td>\n",
              "      <td>3.0</td>\n",
              "      <td>Male</td>\n",
              "      <td>92697</td>\n",
              "      <td>190.0</td>\n",
              "      <td>29</td>\n",
              "      <td>3</td>\n",
              "      <td>400</td>\n",
              "      <td>0</td>\n",
              "      <td>1</td>\n",
              "      <td>Single Sim</td>\n",
              "      <td>Andoid</td>\n",
              "      <td>Postpaid</td>\n",
              "      <td>0</td>\n",
              "    </tr>\n",
              "    <tr>\n",
              "      <th>4996</th>\n",
              "      <td>63da0042333ca48a71065ee9</td>\n",
              "      <td>7402</td>\n",
              "      <td>3.0</td>\n",
              "      <td>Male</td>\n",
              "      <td>93023</td>\n",
              "      <td>30.0</td>\n",
              "      <td>63</td>\n",
              "      <td>39</td>\n",
              "      <td>240</td>\n",
              "      <td>0</td>\n",
              "      <td>2</td>\n",
              "      <td>Single Sim</td>\n",
              "      <td>Andoid</td>\n",
              "      <td>Prepaid</td>\n",
              "      <td>0</td>\n",
              "    </tr>\n",
              "    <tr>\n",
              "      <th>4997</th>\n",
              "      <td>63da0042333ca48a71065eea</td>\n",
              "      <td>3149</td>\n",
              "      <td>1.0</td>\n",
              "      <td>Male</td>\n",
              "      <td>92037</td>\n",
              "      <td>40.0</td>\n",
              "      <td>30</td>\n",
              "      <td>4</td>\n",
              "      <td>150</td>\n",
              "      <td>1</td>\n",
              "      <td>4</td>\n",
              "      <td>Single Sim</td>\n",
              "      <td>Andoid</td>\n",
              "      <td>Postpaid</td>\n",
              "      <td>0</td>\n",
              "    </tr>\n",
              "    <tr>\n",
              "      <th>4998</th>\n",
              "      <td>63da0042333ca48a71065eeb</td>\n",
              "      <td>5742</td>\n",
              "      <td>2.0</td>\n",
              "      <td>Male</td>\n",
              "      <td>90034</td>\n",
              "      <td>50.0</td>\n",
              "      <td>65</td>\n",
              "      <td>40</td>\n",
              "      <td>490</td>\n",
              "      <td>0</td>\n",
              "      <td>3</td>\n",
              "      <td>Single Sim</td>\n",
              "      <td>Andoid</td>\n",
              "      <td>Postpaid</td>\n",
              "      <td>0</td>\n",
              "    </tr>\n",
              "    <tr>\n",
              "      <th>4999</th>\n",
              "      <td>63da0042333ca48a71065eec</td>\n",
              "      <td>3689</td>\n",
              "      <td>1.0</td>\n",
              "      <td>Female</td>\n",
              "      <td>92612</td>\n",
              "      <td>80.0</td>\n",
              "      <td>28</td>\n",
              "      <td>4</td>\n",
              "      <td>830</td>\n",
              "      <td>0</td>\n",
              "      <td>3</td>\n",
              "      <td>Single Sim</td>\n",
              "      <td>Andoid</td>\n",
              "      <td>Postpaid</td>\n",
              "      <td>0</td>\n",
              "    </tr>\n",
              "  </tbody>\n",
              "</table>\n",
              "<p>5000 rows × 15 columns</p>\n",
              "</div>\n",
              "      <button class=\"colab-df-convert\" onclick=\"convertToInteractive('df-0d3f5c41-1472-43c3-a3b7-f9fcd549e37c')\"\n",
              "              title=\"Convert this dataframe to an interactive table.\"\n",
              "              style=\"display:none;\">\n",
              "        \n",
              "  <svg xmlns=\"http://www.w3.org/2000/svg\" height=\"24px\"viewBox=\"0 0 24 24\"\n",
              "       width=\"24px\">\n",
              "    <path d=\"M0 0h24v24H0V0z\" fill=\"none\"/>\n",
              "    <path d=\"M18.56 5.44l.94 2.06.94-2.06 2.06-.94-2.06-.94-.94-2.06-.94 2.06-2.06.94zm-11 1L8.5 8.5l.94-2.06 2.06-.94-2.06-.94L8.5 2.5l-.94 2.06-2.06.94zm10 10l.94 2.06.94-2.06 2.06-.94-2.06-.94-.94-2.06-.94 2.06-2.06.94z\"/><path d=\"M17.41 7.96l-1.37-1.37c-.4-.4-.92-.59-1.43-.59-.52 0-1.04.2-1.43.59L10.3 9.45l-7.72 7.72c-.78.78-.78 2.05 0 2.83L4 21.41c.39.39.9.59 1.41.59.51 0 1.02-.2 1.41-.59l7.78-7.78 2.81-2.81c.8-.78.8-2.07 0-2.86zM5.41 20L4 18.59l7.72-7.72 1.47 1.35L5.41 20z\"/>\n",
              "  </svg>\n",
              "      </button>\n",
              "      \n",
              "  <style>\n",
              "    .colab-df-container {\n",
              "      display:flex;\n",
              "      flex-wrap:wrap;\n",
              "      gap: 12px;\n",
              "    }\n",
              "\n",
              "    .colab-df-convert {\n",
              "      background-color: #E8F0FE;\n",
              "      border: none;\n",
              "      border-radius: 50%;\n",
              "      cursor: pointer;\n",
              "      display: none;\n",
              "      fill: #1967D2;\n",
              "      height: 32px;\n",
              "      padding: 0 0 0 0;\n",
              "      width: 32px;\n",
              "    }\n",
              "\n",
              "    .colab-df-convert:hover {\n",
              "      background-color: #E2EBFA;\n",
              "      box-shadow: 0px 1px 2px rgba(60, 64, 67, 0.3), 0px 1px 3px 1px rgba(60, 64, 67, 0.15);\n",
              "      fill: #174EA6;\n",
              "    }\n",
              "\n",
              "    [theme=dark] .colab-df-convert {\n",
              "      background-color: #3B4455;\n",
              "      fill: #D2E3FC;\n",
              "    }\n",
              "\n",
              "    [theme=dark] .colab-df-convert:hover {\n",
              "      background-color: #434B5C;\n",
              "      box-shadow: 0px 1px 3px 1px rgba(0, 0, 0, 0.15);\n",
              "      filter: drop-shadow(0px 1px 2px rgba(0, 0, 0, 0.3));\n",
              "      fill: #FFFFFF;\n",
              "    }\n",
              "  </style>\n",
              "\n",
              "      <script>\n",
              "        const buttonEl =\n",
              "          document.querySelector('#df-0d3f5c41-1472-43c3-a3b7-f9fcd549e37c button.colab-df-convert');\n",
              "        buttonEl.style.display =\n",
              "          google.colab.kernel.accessAllowed ? 'block' : 'none';\n",
              "\n",
              "        async function convertToInteractive(key) {\n",
              "          const element = document.querySelector('#df-0d3f5c41-1472-43c3-a3b7-f9fcd549e37c');\n",
              "          const dataTable =\n",
              "            await google.colab.kernel.invokeFunction('convertToInteractive',\n",
              "                                                     [key], {});\n",
              "          if (!dataTable) return;\n",
              "\n",
              "          const docLinkHtml = 'Like what you see? Visit the ' +\n",
              "            '<a target=\"_blank\" href=https://colab.research.google.com/notebooks/data_table.ipynb>data table notebook</a>'\n",
              "            + ' to learn more about interactive tables.';\n",
              "          element.innerHTML = '';\n",
              "          dataTable['output_type'] = 'display_data';\n",
              "          await google.colab.output.renderOutput(dataTable, element);\n",
              "          const docLink = document.createElement('div');\n",
              "          docLink.innerHTML = docLinkHtml;\n",
              "          element.appendChild(docLink);\n",
              "        }\n",
              "      </script>\n",
              "    </div>\n",
              "  </div>\n",
              "  "
            ]
          },
          "metadata": {},
          "execution_count": 10
        }
      ],
      "source": [
        "#View whole data as dataframe\n",
        "df = pd.DataFrame(list(db.PX03_Churn.find()))\n",
        "df"
      ]
    },
    {
      "cell_type": "code",
      "execution_count": 11,
      "metadata": {
        "colab": {
          "base_uri": "https://localhost:8080/",
          "height": 489
        },
        "id": "XKOdsg0A23dm",
        "outputId": "e13dfea2-25c1-4b47-b3b7-cbcc27c0d215"
      },
      "outputs": [
        {
          "output_type": "execute_result",
          "data": {
            "text/plain": [
              "<matplotlib.axes._subplots.AxesSubplot at 0x7f333ab55b50>"
            ]
          },
          "metadata": {},
          "execution_count": 11
        },
        {
          "output_type": "display_data",
          "data": {
            "text/plain": [
              "<Figure size 504x504 with 2 Axes>"
            ],
            "image/png": "[encoded data removed]"
          },
          "metadata": {
            "needs_background": "light"
          }
        }
      ],
      "source": [
        "#Correlation Heatmap\n",
        "plt.figure(figsize=(7,7))\n",
        "sns.heatmap (df.corr(),annot=True , fmt=\".1f\")"
      ]
    },
    {
      "cell_type": "markdown",
      "metadata": {
        "id": "W3dWwKab4mV0"
      },
      "source": [
        "Charges and Calls are the strong predictors of churn."
      ]
    },
    {
      "cell_type": "code",
      "execution_count": 12,
      "metadata": {
        "colab": {
          "base_uri": "https://localhost:8080/",
          "height": 607
        },
        "id": "6z2E-XKUjOCv",
        "outputId": "41a7fe96-6866-49fa-efbb-ca8f5a52bf63"
      },
      "outputs": [
        {
          "output_type": "display_data",
          "data": {
            "text/plain": [
              "<Figure size 720x720 with 12 Axes>"
            ],
            "image/png": "[encoded data removed]"
          },
          "metadata": {
            "needs_background": "light"
          }
        }
      ],
      "source": [
        "#Histogram of Numerical Variables\n",
        "plt.rcParams['figure.figsize'] = (10,10)\n",
        "df.hist()\n",
        "plt.show()"
      ]
    },
    {
      "cell_type": "code",
      "execution_count": 13,
      "metadata": {
        "colab": {
          "base_uri": "https://localhost:8080/",
          "height": 296
        },
        "id": "1zBfYD2i3Y6r",
        "outputId": "08ce32f8-3372-44ac-d6fc-5de7bad8f66f"
      },
      "outputs": [
        {
          "output_type": "execute_result",
          "data": {
            "text/plain": [
              "<matplotlib.axes._subplots.AxesSubplot at 0x7f33381b92e0>"
            ]
          },
          "metadata": {},
          "execution_count": 13
        },
        {
          "output_type": "display_data",
          "data": {
            "text/plain": [
              "<Figure size 576x288 with 1 Axes>"
            ],
            "image/png": "[encoded data removed]"
          },
          "metadata": {
            "needs_background": "light"
          }
        }
      ],
      "source": [
        "#Count Plot of the Target Variable\n",
        "plt.rcParams['figure.figsize'] = (8,4)\n",
        "sns.countplot(x='churn', data = df)"
      ]
    },
    {
      "cell_type": "markdown",
      "metadata": {
        "id": "g7Z6_TN_MReq"
      },
      "source": [
        "# Install Spark and Transfer Data"
      ]
    },
    {
      "cell_type": "code",
      "execution_count": 14,
      "metadata": {
        "colab": {
          "base_uri": "https://localhost:8080/"
        },
        "id": "lLnkrk_HV98Q",
        "outputId": "fed46a0e-07ea-4cee-daae-ff8114c66620"
      },
      "outputs": [
        {
          "output_type": "stream",
          "name": "stdout",
          "text": [
            "\u001b[2K     \u001b[90m━━━━━━━━━━━━━━━━━━━━━━━━━━━━━━━━━━━━━━━\u001b[0m \u001b[32m281.4/281.4 MB\u001b[0m \u001b[31m4.9 MB/s\u001b[0m eta \u001b[36m0:00:00\u001b[0m\n",
            "\u001b[?25h  Preparing metadata (setup.py) ... \u001b[?25l\u001b[?25hdone\n",
            "\u001b[2K     \u001b[90m━━━━━━━━━━━━━━━━━━━━━━━━━━━━━━━━━━━━━━\u001b[0m \u001b[32m199.7/199.7 KB\u001b[0m \u001b[31m19.2 MB/s\u001b[0m eta \u001b[36m0:00:00\u001b[0m\n",
            "\u001b[?25h  Building wheel for pyspark (setup.py) ... \u001b[?25l\u001b[?25hdone\n"
          ]
        }
      ],
      "source": [
        "!pip3 install -q pyspark"
      ]
    },
    {
      "cell_type": "code",
      "execution_count": 15,
      "metadata": {
        "id": "y5M51wySV-D5"
      },
      "outputs": [],
      "source": [
        "from pyspark.sql import SparkSession\n",
        "spark = SparkSession \\\n",
        "    .builder \\\n",
        "    .master(\"local[*]\") \\\n",
        "    .config(\"spark.mongodb.input.uri\", \"mongodb://localhost:27017/sparkDB.coll01\") \\\n",
        "    .config(\"spark.mongodb.output.uri\", \"mongodb://localhost:27017/sparkDB.coll01\") \\\n",
        "    .config('spark.jars.packages', 'org.mongodb.spark:mongo-spark-connector_2.12:3.0.1')\\\n",
        "    .getOrCreate()"
      ]
    },
    {
      "cell_type": "code",
      "execution_count": 16,
      "metadata": {
        "colab": {
          "base_uri": "https://localhost:8080/"
        },
        "id": "9ZvfaSzeV-Py",
        "outputId": "077d9820-e983-48b8-9b2c-06e3e1ef842a"
      },
      "outputs": [
        {
          "output_type": "stream",
          "name": "stdout",
          "text": [
            "+--------------------+----+-----+-------+-----+---------+--------+------+---+------+-------+--------+----------+---+-------+\n",
            "|                 _id| age|calls|charges|churn|complaint|coverage|gender|mms| phone|phoneno| prepost|       sim|sms|zipcode|\n",
            "+--------------------+----+-----+-------+-----+---------+--------+------+---+------+-------+--------+----------+---+-------+\n",
            "|{63da0042333ca48a...|   1|  150|    340|    0|        3|       0|  Male| 19|Andoid|   4535| Prepaid|  Dual Sim| 45|  90089|\n",
            "|{63da0042333ca48a...|   1|  160|    490|    0|        4|       0|  Male|  1|Andoid|   5974| Prepaid|  Dual Sim| 25|  91107|\n",
            "|{63da0042333ca48a...|   1|  100|    110|    0|        1|       0|  Male| 15|Andoid|   4016| Prepaid|Single Sim| 39|  94720|\n",
            "|{63da0042333ca48a...|   2|  270|   1000|    0|        1|       0|  Male|  9|Andoid|   8523| Prepaid|Single Sim| 35|  94112|\n",
            "|{63da0042333ca48a...|   2|  100|    450|    0|        4|       0|Female|  8|Andoid|   5052| Prepaid|Single Sim| 35|  91330|\n",
            "|{63da0042333ca48a...|   2|  150|    720|    0|        2|       0|  Male| 27|Andoid|   9042|Postpaid|Single Sim| 53|  91711|\n",
            "|{63da0042333ca48a...|   2|   40|    290|    0|        4|       2|  Male| 13|Andoid|   8970|Postpaid|Single Sim| 37|  92121|\n",
            "|{63da0042333ca48a...|   3|   30|    220|    0|        1|       0|Female| 24|Andoid|   5724| Prepaid|Single Sim| 50|  93943|\n",
            "|{63da0042333ca48a...|null|  890|   1800|    1|        1|       0|  Male|  9|Andoid|   4436| Prepaid|Single Sim| 34|  93023|\n",
            "|{63da0042333ca48a...|   2|   60|    810|    0|        3|       2|  Male| 10|Andoid|   9238|Postpaid|Single Sim| 35|  90089|\n",
            "|{63da0042333ca48a...|   3|  240|   1050|    0|        4|       0|  Male| 39|Andoid|   3455| Prepaid|Single Sim| 65|  94710|\n",
            "|{63da0042333ca48a...|   2|   10|    450|    0|        3|       0|  Male|  5|Andoid|   8784|Postpaid|Single Sim| 29|  90277|\n",
            "|{63da0042333ca48a...|   3| null|   1140|    0|        2|       0|  Male| 23|Andoid|   1582| Prepaid|  Dual Sim| 48|  93106|\n",
            "|{63da0042333ca48a...|   2|  250|    400|    0|        4|       0|  Male| 32|Andoid|   9392|Postpaid|Single Sim| 59|  94920|\n",
            "|{63da0042333ca48a...|   1|  200|   1120|    0|        1|       0|  Male| 41|Andoid|   4702| Prepaid|  Dual Sim| 67|  91741|\n",
            "|{63da0042333ca48a...|   3|  470|   1300|    1|        4|       2|  Male| 14|Andoid|   4288| Prepaid|Single Sim| 38|  95010|\n",
            "|{63da0042333ca48a...|   1|  240|    810|    0|        4|       0|  Male| 18|Andoid|   3273| Prepaid|Single Sim| 42|  94305|\n",
            "|{63da0042333ca48a...|   3|  810|   1930|    1|        2|       0|  Male| 21|Andoid|   1382| Prepaid|Single Sim| 46|  91604|\n",
            "|{63da0042333ca48a...|   2|   50|    210|    0|        1|       0|Female| 28|Andoid|   9859| Prepaid|  Dual Sim| 55|  94720|\n",
            "|{63da0042333ca48a...|   3|  150|    220|    0|        1|       0|Female| 30|Andoid|   2981|Postpaid|Single Sim| 60|  95054|\n",
            "+--------------------+----+-----+-------+-----+---------+--------+------+---+------+-------+--------+----------+---+-------+\n",
            "only showing top 20 rows\n",
            "\n"
          ]
        }
      ],
      "source": [
        "sparkDF = spark.read.format(\"mongo\").option(\"uri\",\"mongodb://127.0.0.1/PraxisDB.PX03_Churn\").load()\n",
        "sparkDF.show()"
      ]
    },
    {
      "cell_type": "code",
      "execution_count": 17,
      "metadata": {
        "colab": {
          "base_uri": "https://localhost:8080/"
        },
        "id": "c9oP-esyNU0a",
        "outputId": "14168911-b655-43f4-f1da-ae73b79f4c12"
      },
      "outputs": [
        {
          "output_type": "stream",
          "name": "stdout",
          "text": [
            "root\n",
            " |-- age: integer (nullable = true)\n",
            " |-- calls: integer (nullable = true)\n",
            " |-- charges: integer (nullable = true)\n",
            " |-- churn: integer (nullable = true)\n",
            " |-- complaint: integer (nullable = true)\n",
            " |-- coverage: integer (nullable = true)\n",
            " |-- gender: string (nullable = true)\n",
            " |-- mms: integer (nullable = true)\n",
            " |-- phone: string (nullable = true)\n",
            " |-- phoneno: integer (nullable = true)\n",
            " |-- prepost: string (nullable = true)\n",
            " |-- sim: string (nullable = true)\n",
            " |-- sms: integer (nullable = true)\n",
            " |-- zipcode: integer (nullable = true)\n",
            "\n"
          ]
        }
      ],
      "source": [
        "sparkDF = sparkDF.drop(\"_id\")\n",
        "sparkDF.printSchema()"
      ]
    },
    {
      "cell_type": "code",
      "execution_count": 18,
      "metadata": {
        "colab": {
          "base_uri": "https://localhost:8080/"
        },
        "id": "Jv9Kwp2HVajC",
        "outputId": "dae72dc9-0a36-4619-a98e-3b6d3dd6282b"
      },
      "outputs": [
        {
          "output_type": "stream",
          "name": "stdout",
          "text": [
            "(5000, 14)\n"
          ]
        }
      ],
      "source": [
        "print((sparkDF.count(), len(sparkDF.columns)))"
      ]
    },
    {
      "cell_type": "markdown",
      "metadata": {
        "id": "z8sZBuA_tHi-"
      },
      "source": [
        "# Data Preprocessing"
      ]
    },
    {
      "cell_type": "code",
      "execution_count": 19,
      "metadata": {
        "colab": {
          "base_uri": "https://localhost:8080/"
        },
        "id": "Jvdr1lVZs-8z",
        "outputId": "ce98e76e-d089-42bc-b1d0-34a66c9a3ad7"
      },
      "outputs": [
        {
          "output_type": "execute_result",
          "data": {
            "text/plain": [
              "age          6\n",
              "calls        6\n",
              "charges      0\n",
              "churn        0\n",
              "complaint    0\n",
              "coverage     0\n",
              "gender       0\n",
              "mms          0\n",
              "phone        0\n",
              "phoneno      0\n",
              "prepost      0\n",
              "sim          0\n",
              "sms          0\n",
              "zipcode      0\n",
              "dtype: int64"
            ]
          },
          "metadata": {},
          "execution_count": 19
        }
      ],
      "source": [
        "sparkDF.toPandas().isnull().sum()"
      ]
    },
    {
      "cell_type": "code",
      "execution_count": 20,
      "metadata": {
        "colab": {
          "base_uri": "https://localhost:8080/"
        },
        "id": "H5E4RZNgoKJ8",
        "outputId": "f737ff25-77b8-408e-db27-9f4a0acf87ac"
      },
      "outputs": [
        {
          "output_type": "stream",
          "name": "stdout",
          "text": [
            "+-------+------------------+------------------+-----------------+-------------------+------------------+------------------+------+------------------+------+-----------------+--------+----------+------------------+-----------------+\n",
            "|summary|               age|             calls|          charges|              churn|         complaint|          coverage|gender|               mms| phone|          phoneno| prepost|       sim|               sms|          zipcode|\n",
            "+-------+------------------+------------------+-----------------+-------------------+------------------+------------------+------+------------------+------+-----------------+--------+----------+------------------+-----------------+\n",
            "|  count|              4994|              4994|             5000|               5000|              5000|              5000|  5000|              5000|  5000|             5000|    5000|      5000|              5000|             5000|\n",
            "|   mean|1.8804565478574289|193.82238686423707|          737.742|              0.096|            2.3886|             0.719|  null|           20.1046|  null|         5497.188|    null|      null|           45.3384|        93152.503|\n",
            "| stddev|0.8398297156841151|174.82322132265148|460.3372932108629|0.29462070577618005|1.1540608351738895|1.2331841503318668|  null|11.467953681120553|  null|2603.474018393287|    null|      null|11.463165630542651|2121.852197336197|\n",
            "|    min|                 1|                 0|               80|                  0|                 0|                 0|Female|                -3|Andoid|             1000|Postpaid|  Dual Sim|                23|             9307|\n",
            "|    max|                 3|              1000|             2240|                  1|                 4|                 7|  Male|                43|   IOS|             9997| Prepaid|Single Sim|                67|            96651|\n",
            "+-------+------------------+------------------+-----------------+-------------------+------------------+------------------+------+------------------+------+-----------------+--------+----------+------------------+-----------------+\n",
            "\n"
          ]
        }
      ],
      "source": [
        "sparkDF.describe().show()"
      ]
    },
    {
      "cell_type": "code",
      "execution_count": 21,
      "metadata": {
        "id": "sB_u2p97mQHo"
      },
      "outputs": [],
      "source": [
        "sparkDF = sparkDF.na.fill(value=1.88,subset=[\"age\"])\n",
        "sparkDF = sparkDF.na.fill(value=193.82,subset=[\"calls\"])"
      ]
    },
    {
      "cell_type": "code",
      "execution_count": 22,
      "metadata": {
        "colab": {
          "base_uri": "https://localhost:8080/"
        },
        "id": "YztcmwQ5nK7u",
        "outputId": "560b3a9a-ed2e-4920-8c54-67c9c62aa3c5"
      },
      "outputs": [
        {
          "output_type": "execute_result",
          "data": {
            "text/plain": [
              "age          0\n",
              "calls        0\n",
              "charges      0\n",
              "churn        0\n",
              "complaint    0\n",
              "coverage     0\n",
              "gender       0\n",
              "mms          0\n",
              "phone        0\n",
              "phoneno      0\n",
              "prepost      0\n",
              "sim          0\n",
              "sms          0\n",
              "zipcode      0\n",
              "dtype: int64"
            ]
          },
          "metadata": {},
          "execution_count": 22
        }
      ],
      "source": [
        "sparkDF.toPandas().isnull().sum()"
      ]
    },
    {
      "cell_type": "markdown",
      "metadata": {
        "id": "98AR8fpeE9lh"
      },
      "source": [
        "# Feature Engineering"
      ]
    },
    {
      "cell_type": "code",
      "execution_count": 23,
      "metadata": {
        "id": "1jR5hu-yNrIs"
      },
      "outputs": [],
      "source": [
        "from pyspark.ml.feature import StringIndexer\n",
        "from pyspark.ml.feature import OneHotEncoder\n",
        "from pyspark.ml.feature import VectorAssembler\n",
        "from pyspark.ml.feature import StandardScaler\n",
        "from pyspark.ml import Pipeline"
      ]
    },
    {
      "cell_type": "code",
      "execution_count": 24,
      "metadata": {
        "id": "YSg_z_fPNrSc"
      },
      "outputs": [],
      "source": [
        "gender_indexer = StringIndexer(inputCol='gender',outputCol='gender_num')\n",
        "phone_indexer = StringIndexer(inputCol='phone',outputCol='phone_num')\n",
        "prepost_indexer = StringIndexer(inputCol='prepost',outputCol='prepost_num')\n",
        "sim_indexer = StringIndexer(inputCol='sim',outputCol='sim_num')\n",
        "encoder = OneHotEncoder(inputCols=[\"gender_num\",\"phone_num\",\"prepost_num\",\"sim_num\"],\n",
        "                       outputCols=[\"gender_vector\",\"phone_vector\",\"prepost_vector\",\"sim_vector\"])"
      ]
    },
    {
      "cell_type": "code",
      "execution_count": 25,
      "metadata": {
        "id": "kOpkLolcNroL"
      },
      "outputs": [],
      "source": [
        "assembler=VectorAssembler(inputCols=['age', 'calls', 'charges', 'complaint', 'coverage', 'gender_vector',\n",
        "                                     'mms', 'phone_vector', 'prepost_vector', 'sim_vector',\n",
        "                                     'sms'],outputCol='features')\n",
        "standard_scaler = StandardScaler(inputCol=\"features\", outputCol=\"features_scaled\")"
      ]
    },
    {
      "cell_type": "code",
      "execution_count": 27,
      "metadata": {
        "id": "IQHV_BGtoE5S"
      },
      "outputs": [],
      "source": [
        "basepipe = Pipeline(stages=[gender_indexer, phone_indexer, prepost_indexer, sim_indexer,\n",
        "                            encoder, assembler, standard_scaler])"
      ]
    },
    {
      "cell_type": "code",
      "execution_count": 30,
      "metadata": {
        "colab": {
          "base_uri": "https://localhost:8080/"
        },
        "id": "frw7MbSrut8a",
        "outputId": "a74c95d0-8bba-4f47-e41c-2a65a135321a"
      },
      "outputs": [
        {
          "output_type": "stream",
          "name": "stdout",
          "text": [
            "+-----------------------------------------------------------------------------------------------------------------------------------------------------------------------------------+-----+\n",
            "|features_scaled                                                                                                                                                                    |churn|\n",
            "+-----------------------------------------------------------------------------------------------------------------------------------------------------------------------------------+-----+\n",
            "|[1.190647713352673,0.8585249487364706,0.7385888673682994,2.599516341396305,0.0,2.194727222433511,1.656790786596853,4.1972669618924305,0.0,0.0,3.925617185544388]                   |0    |\n",
            "|[1.190647713352673,0.9157599453189019,1.064436897089608,3.4660217885284066,0.0,2.194727222433511,0.08719951508404489,4.1972669618924305,0.0,0.0,2.180898436413549]                 |0    |\n",
            "|[1.190647713352673,0.5723499658243137,0.23895522179562628,0.8665054471321016,0.0,2.194727222433511,1.3079927262606734,4.1972669618924305,0.0,3.2700114580512616,3.4022015608051364]|0    |\n",
            "|[2.381295426705346,1.545344907725647,2.172320198142057,0.8665054471321016,0.0,2.194727222433511,0.784795635756404,4.1972669618924305,0.0,3.2700114580512616,3.0532578109789683]    |0    |\n",
            "|[2.381295426705346,0.5723499658243137,0.9775440891639258,3.4660217885284066,0.0,0.0,0.6975961206723591,4.1972669618924305,0.0,3.2700114580512616,3.0532578109789683]               |0    |\n",
            "+-----------------------------------------------------------------------------------------------------------------------------------------------------------------------------------+-----+\n",
            "only showing top 5 rows\n",
            "\n"
          ]
        }
      ],
      "source": [
        "basepipe.fit(sparkDF).transform(sparkDF).select(['features_scaled','churn']).show(5, False)"
      ]
    },
    {
      "cell_type": "markdown",
      "metadata": {
        "id": "kGfefWkAuDvF"
      },
      "source": [
        "# Spark ML Pipelines "
      ]
    },
    {
      "cell_type": "code",
      "execution_count": 31,
      "metadata": {
        "colab": {
          "base_uri": "https://localhost:8080/"
        },
        "id": "t6nZxV4ItYyA",
        "outputId": "e52e6206-d67c-4773-d2f4-e1d30caba26e"
      },
      "outputs": [
        {
          "output_type": "stream",
          "name": "stdout",
          "text": [
            "3733 1267\n"
          ]
        }
      ],
      "source": [
        "dfTrain, dfTest = sparkDF.randomSplit([0.75,0.25])\n",
        "print(dfTrain.count(), dfTest.count())"
      ]
    },
    {
      "cell_type": "code",
      "execution_count": 32,
      "metadata": {
        "colab": {
          "base_uri": "https://localhost:8080/"
        },
        "id": "-Ive4FzTksVg",
        "outputId": "d9e523ac-4681-4f6b-df60-0e8a7dc013a1"
      },
      "outputs": [
        {
          "output_type": "stream",
          "name": "stdout",
          "text": [
            "+-----+-----+\n",
            "|churn|count|\n",
            "+-----+-----+\n",
            "|    1|  355|\n",
            "|    0| 3378|\n",
            "+-----+-----+\n",
            "\n"
          ]
        }
      ],
      "source": [
        "dfTrain.groupBy('churn').count().show()"
      ]
    },
    {
      "cell_type": "code",
      "execution_count": 33,
      "metadata": {
        "colab": {
          "base_uri": "https://localhost:8080/"
        },
        "id": "OwovIEm_ktyz",
        "outputId": "68f053e2-70b8-436c-f93d-92f12bd8011e"
      },
      "outputs": [
        {
          "output_type": "stream",
          "name": "stdout",
          "text": [
            "+-----+-----+\n",
            "|churn|count|\n",
            "+-----+-----+\n",
            "|    1|  125|\n",
            "|    0| 1142|\n",
            "+-----+-----+\n",
            "\n"
          ]
        }
      ],
      "source": [
        "dfTest.groupBy('churn').count().show()"
      ]
    },
    {
      "cell_type": "code",
      "execution_count": 34,
      "metadata": {
        "id": "WMcN6IwulkVt"
      },
      "outputs": [],
      "source": [
        "from pyspark.ml.classification import LogisticRegression\n",
        "from pyspark.ml.evaluation import MulticlassClassificationEvaluator\n",
        "from pyspark.ml.evaluation import BinaryClassificationEvaluator"
      ]
    },
    {
      "cell_type": "markdown",
      "metadata": {
        "id": "Coej43Wb9xV1"
      },
      "source": [
        "## Logistic Regression Pipeline "
      ]
    },
    {
      "cell_type": "code",
      "execution_count": 35,
      "metadata": {
        "id": "8ugu4aetVzPG"
      },
      "outputs": [],
      "source": [
        "logreg = LogisticRegression(labelCol='churn',featuresCol='features_scaled',maxIter=5)\n",
        "logreg_pipeline = Pipeline(stages=[basepipe,logreg])\n",
        "logreg_model = logreg_pipeline.fit(dfTrain)\n",
        "logreg_predictions=logreg_model.transform(dfTest)"
      ]
    },
    {
      "cell_type": "code",
      "execution_count": 36,
      "metadata": {
        "id": "BEzAu4GaZHG8"
      },
      "outputs": [],
      "source": [
        "acc_evaluator = MulticlassClassificationEvaluator(labelCol=\"churn\", predictionCol=\"prediction\", metricName=\"accuracy\")\n",
        "evaluator = BinaryClassificationEvaluator(labelCol='churn')"
      ]
    },
    {
      "cell_type": "code",
      "execution_count": 37,
      "metadata": {
        "colab": {
          "base_uri": "https://localhost:8080/"
        },
        "id": "QtVHbh6dlkbv",
        "outputId": "0aa98f11-408b-4ad2-dff7-58fcb3b22935"
      },
      "outputs": [
        {
          "output_type": "stream",
          "name": "stdout",
          "text": [
            "94.71 is the accuracy of the Logistic Regression Pipeline\n",
            "Area under ROC Curve: 0.9543\n"
          ]
        }
      ],
      "source": [
        "logreg_acc=acc_evaluator.evaluate(logreg_predictions)\n",
        "print(round(logreg_acc*100,2), 'is the accuracy of the Logistic Regression Pipeline')\n",
        "logreg_auroc = evaluator.evaluate(logreg_predictions, {evaluator.metricName: \"areaUnderROC\"})\n",
        "print(\"Area under ROC Curve: {:.4f}\".format(logreg_auroc))"
      ]
    },
    {
      "cell_type": "markdown",
      "metadata": {
        "id": "kRL2F3tA-fAZ"
      },
      "source": [
        "## Random Forest Pipeline"
      ]
    },
    {
      "cell_type": "code",
      "execution_count": 38,
      "metadata": {
        "id": "PULiBtqKlksx"
      },
      "outputs": [],
      "source": [
        "from pyspark.ml.classification import RandomForestClassifier"
      ]
    },
    {
      "cell_type": "code",
      "execution_count": 40,
      "metadata": {
        "id": "wZIG-OB_lkya"
      },
      "outputs": [],
      "source": [
        "ranfor = RandomForestClassifier(featuresCol='features_scaled', labelCol='churn')\n",
        "ranfor_pipeline = Pipeline(stages=[basepipe, ranfor])\n",
        "ranfor_model = ranfor_pipeline.fit(dfTrain)\n",
        "ranfor_predictions=ranfor_model.transform(dfTest)"
      ]
    },
    {
      "cell_type": "code",
      "execution_count": 41,
      "metadata": {
        "colab": {
          "base_uri": "https://localhost:8080/"
        },
        "id": "p3wfTocCYTDR",
        "outputId": "f628c8ee-25e5-42a1-f034-8a3217bab4ef"
      },
      "outputs": [
        {
          "output_type": "stream",
          "name": "stdout",
          "text": [
            "97.95 is the accuracy of the Random Forest Pipeline\n",
            "Area under ROC Curve: 0.9975\n"
          ]
        }
      ],
      "source": [
        "ranfor_acc=acc_evaluator.evaluate(ranfor_predictions)\n",
        "print(round(ranfor_acc*100,2), 'is the accuracy of the Random Forest Pipeline')\n",
        "ranfor_auroc = evaluator.evaluate(ranfor_predictions, {evaluator.metricName: \"areaUnderROC\"})\n",
        "print(\"Area under ROC Curve: {:.4f}\".format(ranfor_auroc))"
      ]
    },
    {
      "cell_type": "markdown",
      "metadata": {
        "id": "0UtbC5s9-_5y"
      },
      "source": [
        "## Gradient Boost Pipeline"
      ]
    },
    {
      "cell_type": "code",
      "execution_count": 42,
      "metadata": {
        "id": "OHlZFRGYlk3j"
      },
      "outputs": [],
      "source": [
        "from pyspark.ml.classification import GBTClassifier"
      ]
    },
    {
      "cell_type": "code",
      "execution_count": 43,
      "metadata": {
        "id": "Lv7oYZD7YTQ5"
      },
      "outputs": [],
      "source": [
        "gbt = GBTClassifier(featuresCol='features_scaled', labelCol='churn')\n",
        "gbt_pipeline = Pipeline(stages=[basepipe, gbt])\n",
        "gbt_model = gbt_pipeline.fit(dfTrain)\n",
        "gbt_predictions=gbt_model.transform(dfTest)"
      ]
    },
    {
      "cell_type": "code",
      "execution_count": 44,
      "metadata": {
        "colab": {
          "base_uri": "https://localhost:8080/"
        },
        "id": "tYMcfqsJYTWZ",
        "outputId": "c836b207-3761-470d-f761-0959e97c418f"
      },
      "outputs": [
        {
          "output_type": "stream",
          "name": "stdout",
          "text": [
            "98.74 is the accuracy of the Gradient Boost Pipeline\n",
            "Area under ROC Curve: 0.9978\n"
          ]
        }
      ],
      "source": [
        "gbt_acc=acc_evaluator.evaluate(gbt_predictions)\n",
        "print(round(gbt_acc*100,2), 'is the accuracy of the Gradient Boost Pipeline')\n",
        "gbt_auroc = evaluator.evaluate(gbt_predictions, {evaluator.metricName: \"areaUnderROC\"})\n",
        "print(\"Area under ROC Curve: {:.4f}\".format(gbt_auroc))"
      ]
    },
    {
      "cell_type": "markdown",
      "metadata": {
        "id": "jsLO9PE0_bPd"
      },
      "source": [
        "# Comparison of the Models"
      ]
    },
    {
      "cell_type": "code",
      "execution_count": 45,
      "metadata": {
        "colab": {
          "base_uri": "https://localhost:8080/"
        },
        "id": "A-OvVEFo_W2F",
        "outputId": "aa30cb32-d5e1-47ff-bb5c-69f3f11c1c1a"
      },
      "outputs": [
        {
          "output_type": "stream",
          "name": "stdout",
          "text": [
            "94.71 is the accuracy of the Logistic Regression Pipeline\n",
            "97.95 is the accuracy of the Random Forest Pipeline\n",
            "98.74 is the accuracy of the Gradient Boost Pipeline\n"
          ]
        }
      ],
      "source": [
        "print(round(logreg_acc*100,2), 'is the accuracy of the Logistic Regression Pipeline')\n",
        "print(round(ranfor_acc*100,2), 'is the accuracy of the Random Forest Pipeline')\n",
        "print(round(gbt_acc*100,2), 'is the accuracy of the Gradient Boost Pipeline')"
      ]
    },
    {
      "cell_type": "code",
      "execution_count": 46,
      "metadata": {
        "colab": {
          "base_uri": "https://localhost:8080/"
        },
        "id": "D-fsOBuRbacw",
        "outputId": "d3617587-57ff-4b84-e966-1813e6c824a2"
      },
      "outputs": [
        {
          "output_type": "stream",
          "name": "stdout",
          "text": [
            "Area under ROC Curve for Logistic Regression : 0.9543\n",
            "Area under ROC Curve for Random Forest       : 0.9975\n",
            "Area under ROC Curve for Gradient Boost      : 0.9978\n"
          ]
        }
      ],
      "source": [
        "print(\"Area under ROC Curve for Logistic Regression : {:.4f}\".format(logreg_auroc))\n",
        "print(\"Area under ROC Curve for Random Forest       : {:.4f}\".format(ranfor_auroc))\n",
        "print(\"Area under ROC Curve for Gradient Boost      : {:.4f}\".format(gbt_auroc))"
      ]
    },
    {
      "cell_type": "markdown",
      "metadata": {
        "id": "xAn6IDkcFZtm"
      },
      "source": [
        "*Gradient Boost gives us the best result as compared to other ML models. Hence, it can be used to predict future churn.*"
      ]
    }
  ],
  "metadata": {
    "colab": {
      "provenance": []
    },
    "kernelspec": {
      "display_name": "Python 3 (ipykernel)",
      "language": "python",
      "name": "python3"
    },
    "language_info": {
      "codemirror_mode": {
        "name": "ipython",
        "version": 3
      },
      "file_extension": ".py",
      "mimetype": "text/x-python",
      "name": "python",
      "nbconvert_exporter": "python",
      "pygments_lexer": "ipython3",
      "version": "3.9.12"
    }
  },
  "nbformat": 4,
  "nbformat_minor": 0
}